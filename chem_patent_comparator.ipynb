{
 "cells": [
  {
   "cell_type": "markdown",
   "metadata": {},
   "source": [
    "# Chemical Patent Comparator Code"
   ]
  },
  {
   "cell_type": "code",
   "execution_count": null,
   "metadata": {},
   "outputs": [],
   "source": [
    "import pickle,os"
   ]
  },
  {
   "cell_type": "code",
   "execution_count": null,
   "metadata": {},
   "outputs": [],
   "source": [
    "#extra cell to see how to load\n",
    "folder=\"patent_chemicals\"\n",
    "input_filename=\"AU-2020200995-A1_words.txt\"\n",
    "\n",
    "with open(f\"{folder}/AU-2020200995-A1_words.txt\",'rb') as f:\n",
    "    input_set_test = pickle.load(f)\n",
    "    print(len(input_set_test))\n",
    "#print(input_set_test)"
   ]
  },
  {
   "cell_type": "markdown",
   "metadata": {},
   "source": [
    "## Jacards Similarity"
   ]
  },
  {
   "cell_type": "code",
   "execution_count": null,
   "metadata": {},
   "outputs": [],
   "source": [
    "#For each file gets num_return closest patents\n",
    "#remove break at end to run over all patents\n",
    "#will also print chemicals that overlap based on similarity\n",
    "num_return=5\n",
    "folder=\"patent_chemicals\"\n",
    "for input_file in os.listdir(folder):\n",
    "    scores=[]\n",
    "    with open(f\"{folder}/{input_file}\",'rb') as f:\n",
    "        input_set = pickle.load(f)\n",
    "        if len(input_set)==0:\n",
    "            continue\n",
    "    for filename in os.listdir(folder):\n",
    "        if filename.endswith(\".txt\") and input_file.endswith(\".txt\") and not input_file==filename:\n",
    "            with open(f\"{folder}/{filename}\",'rb') as f:\n",
    "                database_set = pickle.load(f)\n",
    "            \n",
    "            if len(database_set)==0:\n",
    "                continue\n",
    "            intersect=input_set.intersection(database_set)\n",
    "            score=len(input_set.intersection(database_set))/len(input_set.union(database_set))\n",
    "            \n",
    "            scores.append([filename[:-10],score,intersect,len(intersect),len(input_set.union(database_set))])\n",
    "    scores.sort(key=lambda x:x[1],reverse=True)\n",
    "    \n",
    "    for num_idx in range(num_return):\n",
    "        print(input_file[:-10],scores[num_idx][0],scores[num_idx][1],scores[num_idx][3],scores[num_idx][4])\n",
    "    \n",
    "    print(scores[num_idx][2])\n",
    "    print(\"  \")\n",
    "    break\n"
   ]
  },
  {
   "cell_type": "markdown",
   "metadata": {},
   "source": [
    "## Modified Jacards Similarity"
   ]
  },
  {
   "cell_type": "code",
   "execution_count": null,
   "metadata": {},
   "outputs": [],
   "source": [
    "#similar as previous but using modified jacard similarity\n",
    "#will also print chemicals that overlap based on similarity\n",
    "for input_file in os.listdir(folder):\n",
    "    scores=[]\n",
    "    with open(f\"{folder}/{input_file}\",'rb') as f:\n",
    "        input_set = pickle.load(f)\n",
    "        if len(input_set)==0:\n",
    "            continue\n",
    "    for filename in os.listdir(folder):\n",
    "        if filename.endswith(\".txt\") and input_file.endswith(\".txt\") and not input_file==filename:\n",
    "            with open(f\"{folder}/{filename}\",'rb') as f:\n",
    "                database_set = pickle.load(f)\n",
    "            \n",
    "            if len(database_set)==0:\n",
    "                continue\n",
    "            intersect=input_set.intersection(database_set)\n",
    "            score=len(input_set.intersection(database_set))/len(input_set)\n",
    "            \n",
    "            scores.append([filename[:-10],score,intersect,len(intersect),len(input_set)])\n",
    "    scores.sort(key=lambda x:x[1],reverse=True)\n",
    "    for num_idx in range(num_return):\n",
    "        print(input_file[:-10],scores[num_idx][0],scores[num_idx][1],scores[num_idx][3],scores[num_idx][4])\n",
    "    \n",
    "    print(scores[num_idx][2])\n",
    "    print(\"  \")\n",
    "    break"
   ]
  },
  {
   "cell_type": "markdown",
   "metadata": {},
   "source": [
    "### One file Modified Jacards Similarity"
   ]
  },
  {
   "cell_type": "code",
   "execution_count": null,
   "metadata": {},
   "outputs": [],
   "source": [
    "#same code as modified jacard similarity but just for 1 file. pass in number of files to return as arguement\n",
    "#will also print chemicals that overlap based on similarity\n",
    "file='US-20150224199-A1_words.txt'\n",
    "def get_similar_patents(input_file,num_return=40):\n",
    "    scores=[]\n",
    "    with open(f\"{folder}/{input_file}\",'rb') as f:\n",
    "        input_set = pickle.load(f)\n",
    "        print(input_set)\n",
    "        print(\"\")\n",
    "    for filename in os.listdir(folder):\n",
    "        if filename.endswith(\".txt\") and input_file.endswith(\".txt\") and not input_file==filename:\n",
    "            with open(f\"{folder}/{filename}\",'rb') as f:\n",
    "                database_set = pickle.load(f)\n",
    "            \n",
    "            if len(database_set)==0:\n",
    "                continue\n",
    "            intersect=input_set.intersection(database_set)\n",
    "            score=len(input_set.intersection(database_set))/len(input_set)\n",
    "            \n",
    "            scores.append([filename[:-10],score,intersect,len(intersect),len(input_set)])\n",
    "    scores.sort(key=lambda x:x[1],reverse=True)\n",
    "    for num_idx in range(num_return):\n",
    "        print(input_file[:-10],scores[num_idx][0],scores[num_idx][1],scores[num_idx][3],scores[num_idx][4])\n",
    "    \n",
    "        print(scores[num_idx][2])\n",
    "        print(\"\")\n",
    "\n",
    "get_similar_patents(file)"
   ]
  },
  {
   "cell_type": "code",
   "execution_count": null,
   "metadata": {},
   "outputs": [],
   "source": []
  }
 ],
 "metadata": {
  "kernelspec": {
   "display_name": "Python 3",
   "language": "python",
   "name": "python3"
  },
  "language_info": {
   "codemirror_mode": {
    "name": "ipython",
    "version": 3
   },
   "file_extension": ".py",
   "mimetype": "text/x-python",
   "name": "python",
   "nbconvert_exporter": "python",
   "pygments_lexer": "ipython3",
   "version": "3.7.1"
  }
 },
 "nbformat": 4,
 "nbformat_minor": 2
}
